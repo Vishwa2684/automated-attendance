{
 "cells": [
  {
   "cell_type": "code",
   "execution_count": 5,
   "metadata": {},
   "outputs": [
    {
     "name": "stdout",
     "output_type": "stream",
     "text": [
      "Running YOLO Face Detection...\n",
      "\n",
      "image 1/1 c:\\Users\\vishw\\Desktop\\mini project\\automated-attendance\\student_faces\\val\\245322748042\\39bb217a-5a1c-4607-b684-b0a33f1e15af_face0.jpg: 224x224 1 face, 16.3ms\n",
      "Speed: 1.0ms preprocess, 16.3ms inference, 1.0ms postprocess per image at shape (1, 3, 224, 224)\n",
      "Running YOLO Classification Model...\n",
      "\n",
      "0: 224x224 245322748042 1.00, 245322748045 0.00, 245322748034 0.00, 7.4ms\n",
      "Speed: 1.3ms preprocess, 7.4ms inference, 0.0ms postprocess per image at shape (1, 3, 224, 224)\n",
      "Face 1 - Class: 245322748042, Confidence: 1.00\n"
     ]
    }
   ],
   "source": [
    "from ultralytics import YOLO\n",
    "import cv2\n",
    "import numpy as np\n",
    "import os\n",
    "\n",
    "# Step 1: Load Models\n",
    "yolo_face_model = YOLO(\"./models/yolov11n-face.pt\").to('cpu')  # YOLO Face detection\n",
    "classification_model = YOLO(\"./student_faces/yolo_classification/weights/best.pt\").to('cpu')  # YOLO Classification\n",
    "\n",
    "# Define class labels for YOLO classification\n",
    "classes = ['245322748034', '245322748042', '245322748045']  # Your student IDs or labels\n",
    "\n",
    "# Step 2: Main Pipeline Function\n",
    "def process_image(image_path):\n",
    "    \"\"\"\n",
    "    Pipeline: \n",
    "    - Detect faces using YOLO Face Detector\n",
    "    - Classify each detected face using YOLO Classification Model\n",
    "    - Display the class predictions with confidence scores on the image\n",
    "    \"\"\"\n",
    "    # Load and prepare the image\n",
    "    img = cv2.imread(image_path)\n",
    "    img_rgb = cv2.cvtColor(img, cv2.COLOR_BGR2RGB)\n",
    "\n",
    "    # 1. Detect Faces using YOLO Face Detector\n",
    "    print(\"Running YOLO Face Detection...\")\n",
    "    face_results = yolo_face_model.predict(source=image_path, imgsz=224, conf=0.5)\n",
    "    face_boxes = face_results[0].boxes.xyxy.cpu().numpy()  # Bounding box predictions\n",
    "\n",
    "    if len(face_boxes) == 0:\n",
    "        print(\"No faces detected in the image.\")\n",
    "        return\n",
    "\n",
    "    for i, box in enumerate(face_boxes):\n",
    "        x1, y1, x2, y2 = map(int, box[:4])  # Extract bounding box coordinates\n",
    "        cropped_face = img_rgb[y1:y2, x1:x2]  # Crop the detected face\n",
    "\n",
    "        if cropped_face.size == 0:\n",
    "            print(f\"Invalid face region for box {i}.\")\n",
    "            continue\n",
    "\n",
    "        # Resize face to 224x224 for YOLO classification\n",
    "        face_resized = cv2.resize(cropped_face, (224, 224))\n",
    "\n",
    "        # 2. Predict Class using YOLO Classification Model\n",
    "        print(\"Running YOLO Classification Model...\")\n",
    "        classification_results = classification_model.predict(source=face_resized, imgsz=224, conf=0.5)\n",
    "\n",
    "        if hasattr(classification_results[0], 'probs') and classification_results[0].probs is not None:\n",
    "            class_probs = classification_results[0].probs.data  # Class probabilities\n",
    "            predicted_class_idx = class_probs.argmax()  # Index of the most confident class\n",
    "            predicted_class = classes[predicted_class_idx]  # Map to class labels\n",
    "            confidence_classification = class_probs[predicted_class_idx]\n",
    "            print(f\"Face {i+1} - Class: {predicted_class}, Confidence: {confidence_classification:.2f}\")\n",
    "        else:\n",
    "            print(f\"Face {i+1} - No class predictions returned by YOLO.\")\n",
    "            continue\n",
    "\n",
    "\n",
    "# Step 3: Run Pipeline on a Test Image\n",
    "image_path = \"./student_faces/val/245322748042/39bb217a-5a1c-4607-b684-b0a33f1e15af_face0.jpg\"  # Replace with your test image path\n",
    "process_image(image_path)\n"
   ]
  },
  {
   "cell_type": "code",
   "execution_count": null,
   "metadata": {},
   "outputs": [],
   "source": []
  }
 ],
 "metadata": {
  "kernelspec": {
   "display_name": "Python 3",
   "language": "python",
   "name": "python3"
  },
  "language_info": {
   "codemirror_mode": {
    "name": "ipython",
    "version": 3
   },
   "file_extension": ".py",
   "mimetype": "text/x-python",
   "name": "python",
   "nbconvert_exporter": "python",
   "pygments_lexer": "ipython3",
   "version": "3.12.8"
  }
 },
 "nbformat": 4,
 "nbformat_minor": 2
}
