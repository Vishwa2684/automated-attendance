{
 "cells": [
  {
   "cell_type": "code",
   "execution_count": 2,
   "metadata": {},
   "outputs": [],
   "source": [
    "from ultralytics import YOLO\n",
    "import os\n",
    "import cv2"
   ]
  },
  {
   "cell_type": "code",
   "execution_count": 5,
   "metadata": {},
   "outputs": [],
   "source": [
    "model = YOLO('./models/yolov11n-face.pt').to('cpu')"
   ]
  },
  {
   "cell_type": "code",
   "execution_count": null,
   "metadata": {},
   "outputs": [],
   "source": []
  },
  {
   "cell_type": "code",
   "execution_count": 7,
   "metadata": {},
   "outputs": [],
   "source": [
    "data = prepFaces('./students','./student_faces',model)"
   ]
  },
  {
   "cell_type": "code",
   "execution_count": 8,
   "metadata": {},
   "outputs": [
    {
     "name": "stdout",
     "output_type": "stream",
     "text": [
      "\n",
      "image 1/1 c:\\Users\\vishw\\Desktop\\mini project\\automated-attendance\\students\\245322748041\\0369e155-f87a-4191-91c8-2eb511956c88.jpeg: 640x512 1 face, 211.3ms\n",
      "Speed: 5.0ms preprocess, 211.3ms inference, 9.4ms postprocess per image at shape (1, 3, 640, 512)\n",
      "\n",
      "image 1/1 c:\\Users\\vishw\\Desktop\\mini project\\automated-attendance\\students\\245322748041\\1.jpeg: 640x256 1 face, 60.5ms\n",
      "Speed: 2.4ms preprocess, 60.5ms inference, 0.0ms postprocess per image at shape (1, 3, 640, 256)\n",
      "\n",
      "image 1/1 c:\\Users\\vishw\\Desktop\\mini project\\automated-attendance\\students\\245322748041\\11cae82f-eb01-4c35-9723-7ce495e683d7.jpeg: 640x480 1 face, 108.0ms\n",
      "Speed: 2.0ms preprocess, 108.0ms inference, 0.0ms postprocess per image at shape (1, 3, 640, 480)\n",
      "\n",
      "image 1/1 c:\\Users\\vishw\\Desktop\\mini project\\automated-attendance\\students\\245322748041\\25bf3bec-3680-41d3-b54b-2949f4f0900b.jpeg: 640x512 1 face, 78.7ms\n",
      "Speed: 6.1ms preprocess, 78.7ms inference, 0.0ms postprocess per image at shape (1, 3, 640, 512)\n",
      "\n",
      "image 1/1 c:\\Users\\vishw\\Desktop\\mini project\\automated-attendance\\students\\245322748041\\2d81ba91-18e7-4671-b632-37a5170e5f36.jpeg: 640x480 1 face, 95.7ms\n",
      "Speed: 2.0ms preprocess, 95.7ms inference, 0.0ms postprocess per image at shape (1, 3, 640, 480)\n",
      "\n",
      "image 1/1 c:\\Users\\vishw\\Desktop\\mini project\\automated-attendance\\students\\245322748041\\2e724c64-2391-4984-9761-1f31d98aaabd.jpeg: 640x480 1 face, 98.5ms\n",
      "Speed: 4.3ms preprocess, 98.5ms inference, 0.0ms postprocess per image at shape (1, 3, 640, 480)\n",
      "\n",
      "image 1/1 c:\\Users\\vishw\\Desktop\\mini project\\automated-attendance\\students\\245322748041\\2e90a792-ebfc-41f4-b661-7a9a76e61853.jpeg: 640x320 1 face, 58.8ms\n",
      "Speed: 1.0ms preprocess, 58.8ms inference, 1.0ms postprocess per image at shape (1, 3, 640, 320)\n",
      "\n",
      "image 1/1 c:\\Users\\vishw\\Desktop\\mini project\\automated-attendance\\students\\245322748041\\39bb217a-5a1c-4607-b684-b0a33f1e15af.jpeg: 640x512 1 face, 86.8ms\n",
      "Speed: 3.0ms preprocess, 86.8ms inference, 0.0ms postprocess per image at shape (1, 3, 640, 512)\n",
      "\n",
      "image 1/1 c:\\Users\\vishw\\Desktop\\mini project\\automated-attendance\\students\\245322748041\\47d16c3e-ed84-445d-b7e3-fec79644216c.jpeg: 640x480 1 face, 88.5ms\n",
      "Speed: 2.3ms preprocess, 88.5ms inference, 0.0ms postprocess per image at shape (1, 3, 640, 480)\n",
      "\n",
      "image 1/1 c:\\Users\\vishw\\Desktop\\mini project\\automated-attendance\\students\\245322748041\\8830c4e9-826f-4884-aa0e-781d21fa3e15.jpeg: 640x480 1 face, 86.6ms\n",
      "Speed: 3.5ms preprocess, 86.6ms inference, 0.0ms postprocess per image at shape (1, 3, 640, 480)\n",
      "\n",
      "image 1/1 c:\\Users\\vishw\\Desktop\\mini project\\automated-attendance\\students\\245322748041\\9d35470f-cc33-4f5f-931c-f2e9f10a187a.jpeg: 640x512 1 face, 86.7ms\n",
      "Speed: 2.0ms preprocess, 86.7ms inference, 1.0ms postprocess per image at shape (1, 3, 640, 512)\n",
      "\n",
      "image 1/1 c:\\Users\\vishw\\Desktop\\mini project\\automated-attendance\\students\\245322748041\\9e45b7d9-cd69-48c4-bcfe-ae58d1622dbf.jpeg: 640x320 1 face, 48.6ms\n",
      "Speed: 2.1ms preprocess, 48.6ms inference, 0.0ms postprocess per image at shape (1, 3, 640, 320)\n",
      "\n",
      "image 1/1 c:\\Users\\vishw\\Desktop\\mini project\\automated-attendance\\students\\245322748041\\b59cc48e-5990-46f6-92b3-9719940220a6.jpeg: 640x480 1 face, 81.2ms\n",
      "Speed: 3.0ms preprocess, 81.2ms inference, 1.3ms postprocess per image at shape (1, 3, 640, 480)\n",
      "\n",
      "image 1/1 c:\\Users\\vishw\\Desktop\\mini project\\automated-attendance\\students\\245322748041\\d14c6254-1352-4c73-88cc-89fe6a8a12d9.jpeg: 640x480 1 face, 77.9ms\n",
      "Speed: 2.0ms preprocess, 77.9ms inference, 1.0ms postprocess per image at shape (1, 3, 640, 480)\n",
      "\n",
      "image 1/1 c:\\Users\\vishw\\Desktop\\mini project\\automated-attendance\\students\\245322748041\\d27244cc-b628-4594-9595-93f223d4e1a6.jpeg: 640x384 1 face, 78.0ms\n",
      "Speed: 2.0ms preprocess, 78.0ms inference, 0.0ms postprocess per image at shape (1, 3, 640, 384)\n",
      "\n",
      "image 1/1 c:\\Users\\vishw\\Desktop\\mini project\\automated-attendance\\students\\245322748041\\dd35d879-68ef-4431-a57b-e065ac87b833.jpeg: 640x480 1 face, 92.4ms\n",
      "Speed: 3.1ms preprocess, 92.4ms inference, 1.1ms postprocess per image at shape (1, 3, 640, 480)\n",
      "\n",
      "image 1/1 c:\\Users\\vishw\\Desktop\\mini project\\automated-attendance\\students\\245322748041\\ebd8f9e8-a0e5-47dc-8fd7-a0946d8672cd.jpeg: 640x480 1 face, 84.2ms\n",
      "Speed: 2.5ms preprocess, 84.2ms inference, 0.0ms postprocess per image at shape (1, 3, 640, 480)\n",
      "\n",
      "image 1/1 c:\\Users\\vishw\\Desktop\\mini project\\automated-attendance\\students\\245322748041\\f85a382d-91af-4bb6-9dbc-b4bdba0af4b7.jpeg: 640x480 1 face, 77.1ms\n",
      "Speed: 2.4ms preprocess, 77.1ms inference, 0.0ms postprocess per image at shape (1, 3, 640, 480)\n",
      "\n",
      "image 1/1 c:\\Users\\vishw\\Desktop\\mini project\\automated-attendance\\students\\245322748045\\WhatsApp Image 2024-11-20 at 19.02.41_d96bfe4e.jpg: 640x288 1 face, 50.3ms\n",
      "Speed: 1.4ms preprocess, 50.3ms inference, 0.0ms postprocess per image at shape (1, 3, 640, 288)\n",
      "\n",
      "image 1/1 c:\\Users\\vishw\\Desktop\\mini project\\automated-attendance\\students\\245322748045\\WhatsApp Image 2024-11-20 at 19.03.12_65bd98cb.jpg: 640x288 1 face, 48.5ms\n",
      "Speed: 0.5ms preprocess, 48.5ms inference, 0.0ms postprocess per image at shape (1, 3, 640, 288)\n",
      "\n",
      "image 1/1 c:\\Users\\vishw\\Desktop\\mini project\\automated-attendance\\students\\245322748045\\WhatsApp Image 2024-11-20 at 19.05.54_4883bf61.jpg: 640x480 1 face, 90.7ms\n",
      "Speed: 1.2ms preprocess, 90.7ms inference, 1.0ms postprocess per image at shape (1, 3, 640, 480)\n",
      "\n",
      "image 1/1 c:\\Users\\vishw\\Desktop\\mini project\\automated-attendance\\students\\245322748045\\WhatsApp Image 2024-11-20 at 19.05.54_b83e1590.jpg: 640x480 1 face, 76.1ms\n",
      "Speed: 1.0ms preprocess, 76.1ms inference, 1.0ms postprocess per image at shape (1, 3, 640, 480)\n",
      "\n",
      "image 1/1 c:\\Users\\vishw\\Desktop\\mini project\\automated-attendance\\students\\245322748045\\WhatsApp Image 2024-11-20 at 19.05.54_fe4d8d3d.jpg: 640x480 1 face, 79.6ms\n",
      "Speed: 3.0ms preprocess, 79.6ms inference, 0.0ms postprocess per image at shape (1, 3, 640, 480)\n",
      "\n",
      "image 1/1 c:\\Users\\vishw\\Desktop\\mini project\\automated-attendance\\students\\245322748045\\WhatsApp Image 2024-11-20 at 19.05.55_54c795e7.jpg: 640x480 1 face, 93.4ms\n",
      "Speed: 1.1ms preprocess, 93.4ms inference, 1.0ms postprocess per image at shape (1, 3, 640, 480)\n",
      "\n",
      "image 1/1 c:\\Users\\vishw\\Desktop\\mini project\\automated-attendance\\students\\245322748045\\WhatsApp Image 2024-11-20 at 19.13.46_f4120930.jpg: 640x480 1 face, 91.5ms\n",
      "Speed: 2.7ms preprocess, 91.5ms inference, 1.0ms postprocess per image at shape (1, 3, 640, 480)\n",
      "\n",
      "image 1/1 c:\\Users\\vishw\\Desktop\\mini project\\automated-attendance\\students\\245322748045\\WhatsApp Image 2024-11-20 at 19.13.47_33a2ba9e.jpg: 640x480 1 face, 92.4ms\n",
      "Speed: 2.3ms preprocess, 92.4ms inference, 0.0ms postprocess per image at shape (1, 3, 640, 480)\n",
      "\n",
      "image 1/1 c:\\Users\\vishw\\Desktop\\mini project\\automated-attendance\\students\\245322748045\\WhatsApp Image 2024-11-20 at 19.13.47_bfa4aeaf.jpg: 640x480 1 face, 91.1ms\n",
      "Speed: 2.0ms preprocess, 91.1ms inference, 0.0ms postprocess per image at shape (1, 3, 640, 480)\n",
      "\n",
      "image 1/1 c:\\Users\\vishw\\Desktop\\mini project\\automated-attendance\\students\\245322748045\\WhatsApp Image 2024-11-20 at 19.13.48_07ba74a0.jpg: 640x480 1 face, 76.4ms\n",
      "Speed: 2.2ms preprocess, 76.4ms inference, 0.0ms postprocess per image at shape (1, 3, 640, 480)\n",
      "\n",
      "image 1/1 c:\\Users\\vishw\\Desktop\\mini project\\automated-attendance\\students\\245322748045\\WhatsApp Image 2024-11-20 at 19.13.49_34b7ff64.jpg: 640x480 1 face, 85.5ms\n",
      "Speed: 2.0ms preprocess, 85.5ms inference, 1.0ms postprocess per image at shape (1, 3, 640, 480)\n",
      "\n",
      "image 1/1 c:\\Users\\vishw\\Desktop\\mini project\\automated-attendance\\students\\245322748045\\WhatsApp Image 2024-11-20 at 19.13.49_8eb4e310.jpg: 640x480 1 face, 86.9ms\n",
      "Speed: 3.0ms preprocess, 86.9ms inference, 1.0ms postprocess per image at shape (1, 3, 640, 480)\n",
      "\n",
      "image 1/1 c:\\Users\\vishw\\Desktop\\mini project\\automated-attendance\\students\\245322748045\\WhatsApp Image 2024-11-20 at 19.13.49_986dcd49.jpg: 640x480 1 face, 88.6ms\n",
      "Speed: 2.0ms preprocess, 88.6ms inference, 1.0ms postprocess per image at shape (1, 3, 640, 480)\n",
      "\n",
      "image 1/1 c:\\Users\\vishw\\Desktop\\mini project\\automated-attendance\\students\\245322748045\\WhatsApp Image 2024-11-20 at 19.13.49_da9676ca.jpg: 640x480 1 face, 75.7ms\n",
      "Speed: 1.9ms preprocess, 75.7ms inference, 0.0ms postprocess per image at shape (1, 3, 640, 480)\n",
      "\n",
      "image 1/1 c:\\Users\\vishw\\Desktop\\mini project\\automated-attendance\\students\\245322748045\\WhatsApp Image 2024-11-20 at 19.13.51_a401ab94.jpg: 640x288 1 face, 48.5ms\n",
      "Speed: 1.0ms preprocess, 48.5ms inference, 1.0ms postprocess per image at shape (1, 3, 640, 288)\n",
      "\n",
      "image 1/1 c:\\Users\\vishw\\Desktop\\mini project\\automated-attendance\\students\\245322748045\\WhatsApp Image 2024-11-20 at 19.13.51_f4017f7f.jpg: 640x288 1 face, 48.6ms\n",
      "Speed: 1.0ms preprocess, 48.6ms inference, 0.0ms postprocess per image at shape (1, 3, 640, 288)\n"
     ]
    }
   ],
   "source": [
    "data.process()"
   ]
  },
  {
   "cell_type": "code",
   "execution_count": null,
   "metadata": {},
   "outputs": [],
   "source": []
  }
 ],
 "metadata": {
  "kernelspec": {
   "display_name": "Python 3",
   "language": "python",
   "name": "python3"
  },
  "language_info": {
   "codemirror_mode": {
    "name": "ipython",
    "version": 3
   },
   "file_extension": ".py",
   "mimetype": "text/x-python",
   "name": "python",
   "nbconvert_exporter": "python",
   "pygments_lexer": "ipython3",
   "version": "3.12.7"
  }
 },
 "nbformat": 4,
 "nbformat_minor": 2
}
